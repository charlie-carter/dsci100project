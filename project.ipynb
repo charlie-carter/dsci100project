{
 "cells": [
  {
   "cell_type": "code",
   "execution_count": null,
   "id": "53ce3e81-e65a-45b2-85f4-47ebc2e0b85d",
   "metadata": {},
   "outputs": [],
   "source": []
  }
 ],
 "metadata": {
  "kernelspec": {
   "display_name": "R",
   "language": "R",
   "name": "ir"
  },
  "language_info": {
   "codemirror_mode": "r",
   "file_extension": ".r",
   "mimetype": "text/x-r-source",
   "name": "R",
   "pygments_lexer": "r",
   "version": "4.3.1"
  }
 },
 "nbformat": 4,
 "nbformat_minor": 5
}
