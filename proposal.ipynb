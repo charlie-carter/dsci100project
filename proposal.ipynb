{
 "cells": [
  {
   "cell_type": "markdown",
   "id": "37442f70-3c16-4dd5-8179-3c23841c9f45",
   "metadata": {},
   "source": [
    "# GROUP PROPOSAL"
   ]
  },
  {
   "cell_type": "markdown",
   "id": "8cbecb45-c0c5-4d69-9464-342c96f5617d",
   "metadata": {},
   "source": [
    "## Introduction\n",
    "- Provide some relevant background information on the topic so that someone unfamiliar with it will be prepared to  understand the rest of your proposal\r",
    "- \n",
    "Clearly state the question you will try to answer with your projec\n",
    "- \r\n",
    "Identify and describe the dataset that will be used to answer the questin\r\n"
   ]
  },
  {
   "cell_type": "markdown",
   "id": "90c3d207-d94a-40ae-8559-c3e013c3169d",
   "metadata": {},
   "source": [
    "### reading the data from the web"
   ]
  },
  {
   "cell_type": "code",
   "execution_count": 2,
   "id": "a9254aa2-c0a0-444d-a864-9ee2f644efa8",
   "metadata": {},
   "outputs": [
    {
     "name": "stderr",
     "output_type": "stream",
     "text": [
      "── \u001b[1mAttaching core tidyverse packages\u001b[22m ──────────────────────── tidyverse 2.0.0 ──\n",
      "\u001b[32m✔\u001b[39m \u001b[34mdplyr    \u001b[39m 1.1.3     \u001b[32m✔\u001b[39m \u001b[34mreadr    \u001b[39m 2.1.4\n",
      "\u001b[32m✔\u001b[39m \u001b[34mforcats  \u001b[39m 1.0.0     \u001b[32m✔\u001b[39m \u001b[34mstringr  \u001b[39m 1.5.0\n",
      "\u001b[32m✔\u001b[39m \u001b[34mggplot2  \u001b[39m 3.4.4     \u001b[32m✔\u001b[39m \u001b[34mtibble   \u001b[39m 3.2.1\n",
      "\u001b[32m✔\u001b[39m \u001b[34mlubridate\u001b[39m 1.9.3     \u001b[32m✔\u001b[39m \u001b[34mtidyr    \u001b[39m 1.3.0\n",
      "\u001b[32m✔\u001b[39m \u001b[34mpurrr    \u001b[39m 1.0.2     \n",
      "── \u001b[1mConflicts\u001b[22m ────────────────────────────────────────── tidyverse_conflicts() ──\n",
      "\u001b[31m✖\u001b[39m \u001b[34mdplyr\u001b[39m::\u001b[32mfilter()\u001b[39m masks \u001b[34mstats\u001b[39m::filter()\n",
      "\u001b[31m✖\u001b[39m \u001b[34mdplyr\u001b[39m::\u001b[32mlag()\u001b[39m    masks \u001b[34mstats\u001b[39m::lag()\n",
      "\u001b[36mℹ\u001b[39m Use the conflicted package (\u001b[3m\u001b[34m<http://conflicted.r-lib.org/>\u001b[39m\u001b[23m) to force all conflicts to become errors\n",
      "── \u001b[1mAttaching packages\u001b[22m ────────────────────────────────────── tidymodels 1.1.1 ──\n",
      "\n",
      "\u001b[32m✔\u001b[39m \u001b[34mbroom       \u001b[39m 1.0.5     \u001b[32m✔\u001b[39m \u001b[34mrsample     \u001b[39m 1.2.0\n",
      "\u001b[32m✔\u001b[39m \u001b[34mdials       \u001b[39m 1.2.0     \u001b[32m✔\u001b[39m \u001b[34mtune        \u001b[39m 1.1.2\n",
      "\u001b[32m✔\u001b[39m \u001b[34minfer       \u001b[39m 1.0.5     \u001b[32m✔\u001b[39m \u001b[34mworkflows   \u001b[39m 1.1.3\n",
      "\u001b[32m✔\u001b[39m \u001b[34mmodeldata   \u001b[39m 1.2.0     \u001b[32m✔\u001b[39m \u001b[34mworkflowsets\u001b[39m 1.0.1\n",
      "\u001b[32m✔\u001b[39m \u001b[34mparsnip     \u001b[39m 1.1.1     \u001b[32m✔\u001b[39m \u001b[34myardstick   \u001b[39m 1.2.0\n",
      "\u001b[32m✔\u001b[39m \u001b[34mrecipes     \u001b[39m 1.0.8     \n",
      "\n",
      "── \u001b[1mConflicts\u001b[22m ───────────────────────────────────────── tidymodels_conflicts() ──\n",
      "\u001b[31m✖\u001b[39m \u001b[34mscales\u001b[39m::\u001b[32mdiscard()\u001b[39m masks \u001b[34mpurrr\u001b[39m::discard()\n",
      "\u001b[31m✖\u001b[39m \u001b[34mdplyr\u001b[39m::\u001b[32mfilter()\u001b[39m   masks \u001b[34mstats\u001b[39m::filter()\n",
      "\u001b[31m✖\u001b[39m \u001b[34mrecipes\u001b[39m::\u001b[32mfixed()\u001b[39m  masks \u001b[34mstringr\u001b[39m::fixed()\n",
      "\u001b[31m✖\u001b[39m \u001b[34mdplyr\u001b[39m::\u001b[32mlag()\u001b[39m      masks \u001b[34mstats\u001b[39m::lag()\n",
      "\u001b[31m✖\u001b[39m \u001b[34myardstick\u001b[39m::\u001b[32mspec()\u001b[39m masks \u001b[34mreadr\u001b[39m::spec()\n",
      "\u001b[31m✖\u001b[39m \u001b[34mrecipes\u001b[39m::\u001b[32mstep()\u001b[39m   masks \u001b[34mstats\u001b[39m::step()\n",
      "\u001b[34m•\u001b[39m Use \u001b[32mtidymodels_prefer()\u001b[39m to resolve common conflicts.\n",
      "\n"
     ]
    }
   ],
   "source": [
    "library(repr)\n",
    "library(tidyverse)\n",
    "library(tidymodels)"
   ]
  },
  {
   "cell_type": "code",
   "execution_count": 6,
   "id": "d2674ed7-2b1e-4133-bbda-523113c26949",
   "metadata": {},
   "outputs": [
    {
     "name": "stderr",
     "output_type": "stream",
     "text": [
      "\u001b[1mRows: \u001b[22m\u001b[34m17379\u001b[39m \u001b[1mColumns: \u001b[22m\u001b[34m17\u001b[39m\n",
      "\u001b[36m──\u001b[39m \u001b[1mColumn specification\u001b[22m \u001b[36m────────────────────────────────────────────────────────\u001b[39m\n",
      "\u001b[1mDelimiter:\u001b[22m \",\"\n",
      "\u001b[32mdbl\u001b[39m  (16): instant, season, yr, mnth, hr, holiday, weekday, workingday, weat...\n",
      "\u001b[34mdate\u001b[39m  (1): dteday\n",
      "\n",
      "\u001b[36mℹ\u001b[39m Use `spec()` to retrieve the full column specification for this data.\n",
      "\u001b[36mℹ\u001b[39m Specify the column types or set `show_col_types = FALSE` to quiet this message.\n",
      "\u001b[1mRows: \u001b[22m\u001b[34m731\u001b[39m \u001b[1mColumns: \u001b[22m\u001b[34m16\u001b[39m\n",
      "\u001b[36m──\u001b[39m \u001b[1mColumn specification\u001b[22m \u001b[36m────────────────────────────────────────────────────────\u001b[39m\n",
      "\u001b[1mDelimiter:\u001b[22m \",\"\n",
      "\u001b[32mdbl\u001b[39m  (15): instant, season, yr, mnth, holiday, weekday, workingday, weathers...\n",
      "\u001b[34mdate\u001b[39m  (1): dteday\n",
      "\n",
      "\u001b[36mℹ\u001b[39m Use `spec()` to retrieve the full column specification for this data.\n",
      "\u001b[36mℹ\u001b[39m Specify the column types or set `show_col_types = FALSE` to quiet this message.\n"
     ]
    },
    {
     "data": {
      "text/html": [
       "<table class=\"dataframe\">\n",
       "<caption>A tibble: 6 × 17</caption>\n",
       "<thead>\n",
       "\t<tr><th scope=col>instant</th><th scope=col>dteday</th><th scope=col>season</th><th scope=col>yr</th><th scope=col>mnth</th><th scope=col>hr</th><th scope=col>holiday</th><th scope=col>weekday</th><th scope=col>workingday</th><th scope=col>weathersit</th><th scope=col>temp</th><th scope=col>atemp</th><th scope=col>hum</th><th scope=col>windspeed</th><th scope=col>casual</th><th scope=col>registered</th><th scope=col>cnt</th></tr>\n",
       "\t<tr><th scope=col>&lt;dbl&gt;</th><th scope=col>&lt;date&gt;</th><th scope=col>&lt;dbl&gt;</th><th scope=col>&lt;dbl&gt;</th><th scope=col>&lt;dbl&gt;</th><th scope=col>&lt;dbl&gt;</th><th scope=col>&lt;dbl&gt;</th><th scope=col>&lt;dbl&gt;</th><th scope=col>&lt;dbl&gt;</th><th scope=col>&lt;dbl&gt;</th><th scope=col>&lt;dbl&gt;</th><th scope=col>&lt;dbl&gt;</th><th scope=col>&lt;dbl&gt;</th><th scope=col>&lt;dbl&gt;</th><th scope=col>&lt;dbl&gt;</th><th scope=col>&lt;dbl&gt;</th><th scope=col>&lt;dbl&gt;</th></tr>\n",
       "</thead>\n",
       "<tbody>\n",
       "\t<tr><td>1</td><td>2011-01-01</td><td>1</td><td>0</td><td>1</td><td>0</td><td>0</td><td>6</td><td>0</td><td>1</td><td>0.24</td><td>0.2879</td><td>0.81</td><td>0.0000</td><td>3</td><td>13</td><td>16</td></tr>\n",
       "\t<tr><td>2</td><td>2011-01-01</td><td>1</td><td>0</td><td>1</td><td>1</td><td>0</td><td>6</td><td>0</td><td>1</td><td>0.22</td><td>0.2727</td><td>0.80</td><td>0.0000</td><td>8</td><td>32</td><td>40</td></tr>\n",
       "\t<tr><td>3</td><td>2011-01-01</td><td>1</td><td>0</td><td>1</td><td>2</td><td>0</td><td>6</td><td>0</td><td>1</td><td>0.22</td><td>0.2727</td><td>0.80</td><td>0.0000</td><td>5</td><td>27</td><td>32</td></tr>\n",
       "\t<tr><td>4</td><td>2011-01-01</td><td>1</td><td>0</td><td>1</td><td>3</td><td>0</td><td>6</td><td>0</td><td>1</td><td>0.24</td><td>0.2879</td><td>0.75</td><td>0.0000</td><td>3</td><td>10</td><td>13</td></tr>\n",
       "\t<tr><td>5</td><td>2011-01-01</td><td>1</td><td>0</td><td>1</td><td>4</td><td>0</td><td>6</td><td>0</td><td>1</td><td>0.24</td><td>0.2879</td><td>0.75</td><td>0.0000</td><td>0</td><td> 1</td><td> 1</td></tr>\n",
       "\t<tr><td>6</td><td>2011-01-01</td><td>1</td><td>0</td><td>1</td><td>5</td><td>0</td><td>6</td><td>0</td><td>2</td><td>0.24</td><td>0.2576</td><td>0.75</td><td>0.0896</td><td>0</td><td> 1</td><td> 1</td></tr>\n",
       "</tbody>\n",
       "</table>\n"
      ],
      "text/latex": [
       "A tibble: 6 × 17\n",
       "\\begin{tabular}{lllllllllllllllll}\n",
       " instant & dteday & season & yr & mnth & hr & holiday & weekday & workingday & weathersit & temp & atemp & hum & windspeed & casual & registered & cnt\\\\\n",
       " <dbl> & <date> & <dbl> & <dbl> & <dbl> & <dbl> & <dbl> & <dbl> & <dbl> & <dbl> & <dbl> & <dbl> & <dbl> & <dbl> & <dbl> & <dbl> & <dbl>\\\\\n",
       "\\hline\n",
       "\t 1 & 2011-01-01 & 1 & 0 & 1 & 0 & 0 & 6 & 0 & 1 & 0.24 & 0.2879 & 0.81 & 0.0000 & 3 & 13 & 16\\\\\n",
       "\t 2 & 2011-01-01 & 1 & 0 & 1 & 1 & 0 & 6 & 0 & 1 & 0.22 & 0.2727 & 0.80 & 0.0000 & 8 & 32 & 40\\\\\n",
       "\t 3 & 2011-01-01 & 1 & 0 & 1 & 2 & 0 & 6 & 0 & 1 & 0.22 & 0.2727 & 0.80 & 0.0000 & 5 & 27 & 32\\\\\n",
       "\t 4 & 2011-01-01 & 1 & 0 & 1 & 3 & 0 & 6 & 0 & 1 & 0.24 & 0.2879 & 0.75 & 0.0000 & 3 & 10 & 13\\\\\n",
       "\t 5 & 2011-01-01 & 1 & 0 & 1 & 4 & 0 & 6 & 0 & 1 & 0.24 & 0.2879 & 0.75 & 0.0000 & 0 &  1 &  1\\\\\n",
       "\t 6 & 2011-01-01 & 1 & 0 & 1 & 5 & 0 & 6 & 0 & 2 & 0.24 & 0.2576 & 0.75 & 0.0896 & 0 &  1 &  1\\\\\n",
       "\\end{tabular}\n"
      ],
      "text/markdown": [
       "\n",
       "A tibble: 6 × 17\n",
       "\n",
       "| instant &lt;dbl&gt; | dteday &lt;date&gt; | season &lt;dbl&gt; | yr &lt;dbl&gt; | mnth &lt;dbl&gt; | hr &lt;dbl&gt; | holiday &lt;dbl&gt; | weekday &lt;dbl&gt; | workingday &lt;dbl&gt; | weathersit &lt;dbl&gt; | temp &lt;dbl&gt; | atemp &lt;dbl&gt; | hum &lt;dbl&gt; | windspeed &lt;dbl&gt; | casual &lt;dbl&gt; | registered &lt;dbl&gt; | cnt &lt;dbl&gt; |\n",
       "|---|---|---|---|---|---|---|---|---|---|---|---|---|---|---|---|---|\n",
       "| 1 | 2011-01-01 | 1 | 0 | 1 | 0 | 0 | 6 | 0 | 1 | 0.24 | 0.2879 | 0.81 | 0.0000 | 3 | 13 | 16 |\n",
       "| 2 | 2011-01-01 | 1 | 0 | 1 | 1 | 0 | 6 | 0 | 1 | 0.22 | 0.2727 | 0.80 | 0.0000 | 8 | 32 | 40 |\n",
       "| 3 | 2011-01-01 | 1 | 0 | 1 | 2 | 0 | 6 | 0 | 1 | 0.22 | 0.2727 | 0.80 | 0.0000 | 5 | 27 | 32 |\n",
       "| 4 | 2011-01-01 | 1 | 0 | 1 | 3 | 0 | 6 | 0 | 1 | 0.24 | 0.2879 | 0.75 | 0.0000 | 3 | 10 | 13 |\n",
       "| 5 | 2011-01-01 | 1 | 0 | 1 | 4 | 0 | 6 | 0 | 1 | 0.24 | 0.2879 | 0.75 | 0.0000 | 0 |  1 |  1 |\n",
       "| 6 | 2011-01-01 | 1 | 0 | 1 | 5 | 0 | 6 | 0 | 2 | 0.24 | 0.2576 | 0.75 | 0.0896 | 0 |  1 |  1 |\n",
       "\n"
      ],
      "text/plain": [
       "  instant dteday     season yr mnth hr holiday weekday workingday weathersit\n",
       "1 1       2011-01-01 1      0  1    0  0       6       0          1         \n",
       "2 2       2011-01-01 1      0  1    1  0       6       0          1         \n",
       "3 3       2011-01-01 1      0  1    2  0       6       0          1         \n",
       "4 4       2011-01-01 1      0  1    3  0       6       0          1         \n",
       "5 5       2011-01-01 1      0  1    4  0       6       0          1         \n",
       "6 6       2011-01-01 1      0  1    5  0       6       0          2         \n",
       "  temp atemp  hum  windspeed casual registered cnt\n",
       "1 0.24 0.2879 0.81 0.0000    3      13         16 \n",
       "2 0.22 0.2727 0.80 0.0000    8      32         40 \n",
       "3 0.22 0.2727 0.80 0.0000    5      27         32 \n",
       "4 0.24 0.2879 0.75 0.0000    3      10         13 \n",
       "5 0.24 0.2879 0.75 0.0000    0       1          1 \n",
       "6 0.24 0.2576 0.75 0.0896    0       1          1 "
      ]
     },
     "metadata": {},
     "output_type": "display_data"
    },
    {
     "data": {
      "text/html": [
       "17379"
      ],
      "text/latex": [
       "17379"
      ],
      "text/markdown": [
       "17379"
      ],
      "text/plain": [
       "[1] 17379"
      ]
     },
     "metadata": {},
     "output_type": "display_data"
    }
   ],
   "source": [
    "## put read data code here\n",
    "data_hour <- read_csv(\"data/hour.csv\")\n",
    "data_day <- read_csv(\"data/day.csv\")\n",
    "head(data_hour)\n",
    "nrow(data_hour)"
   ]
  },
  {
   "cell_type": "code",
   "execution_count": null,
   "id": "4fe412af-54b1-4f4c-8faa-65346370772f",
   "metadata": {},
   "outputs": [],
   "source": []
  }
 ],
 "metadata": {
  "kernelspec": {
   "display_name": "R",
   "language": "R",
   "name": "ir"
  },
  "language_info": {
   "codemirror_mode": "r",
   "file_extension": ".r",
   "mimetype": "text/x-r-source",
   "name": "R",
   "pygments_lexer": "r",
   "version": "4.3.1"
  }
 },
 "nbformat": 4,
 "nbformat_minor": 5
}
